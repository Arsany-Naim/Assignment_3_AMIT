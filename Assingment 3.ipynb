{
 "cells": [
  {
   "cell_type": "code",
   "execution_count": 23,
   "id": "0e5a4269",
   "metadata": {},
   "outputs": [
    {
     "name": "stdout",
     "output_type": "stream",
     "text": [
      "3\n"
     ]
    }
   ],
   "source": [
    "#1. Write a function to count the number 4 in a given list.\n",
    "List = [1, 2, 4, 5, 4, 7, 8, 4]\n",
    "def countFour(List):\n",
    "    a = 0\n",
    "    for i in List:\n",
    "        if i == 4:\n",
    "            a+=1\n",
    "    return a\n",
    "\n",
    "print(countFour(List))"
   ]
  },
  {
   "cell_type": "code",
   "execution_count": 77,
   "id": "05af0532",
   "metadata": {},
   "outputs": [
    {
     "name": "stdout",
     "output_type": "stream",
     "text": [
      "Enter : 44 j l ;\n",
      "['44', 'j', 'l', ';']\n"
     ]
    }
   ],
   "source": [
    "s = input(\"Enter : \")\n",
    "d = s.split()\n",
    "print(d)"
   ]
  },
  {
   "cell_type": "code",
   "execution_count": 27,
   "id": "0fcad1d1",
   "metadata": {},
   "outputs": [
    {
     "name": "stdout",
     "output_type": "stream",
     "text": [
      "Yes, They are divisible by each other\n"
     ]
    }
   ],
   "source": [
    "#2. write a function to check whether a number is divisible by another number.\n",
    "def checkDiv(num1, num2):\n",
    "    if num1 % num2 == 0 or num2 % num1 == 0:\n",
    "        print(\"Yes, They are divisible by each other\")\n",
    "    else:\n",
    "        print(\"No, Try again\")\n",
    "\n",
    "checkDiv(15,5)"
   ]
  },
  {
   "cell_type": "code",
   "execution_count": 75,
   "id": "b612985e",
   "metadata": {},
   "outputs": [
    {
     "name": "stdout",
     "output_type": "stream",
     "text": [
      "The Smallest Number : 0 \n",
      "The Largest Number  : 8888888\n"
     ]
    }
   ],
   "source": [
    "#3. write a function to find the maximum and minimum numbers from a sequence of numbers.\n",
    "def min_max(L):\n",
    "    smallestNum = L[0]\n",
    "    largestNum  = L[0]\n",
    "    for a in L:\n",
    "        if a < smallestNum:\n",
    "            smallestNum = a\n",
    "        if a > largestNum:\n",
    "            largestNum  = a\n",
    "    print(f\"The Smallest Number : {smallestNum} \\nThe Largest Number  : {largestNum}\")\n",
    "\n",
    "check = [1, 2, 44, 9009, 0.5, 8888888, 0, 5]\n",
    "min_max(check)"
   ]
  },
  {
   "cell_type": "code",
   "execution_count": 95,
   "id": "c3e7030e",
   "metadata": {},
   "outputs": [
    {
     "name": "stdout",
     "output_type": "stream",
     "text": [
      "True\n"
     ]
    }
   ],
   "source": [
    "#4. Write a Python function that takes two lists and returns True if they have at least one common member.\n",
    "def check(list1, list2):\n",
    "    for i in list1:\n",
    "        if i in list2:\n",
    "            print(\"True\")\n",
    "            break\n",
    "    else:\n",
    "        print(\"False\")\n",
    "\n",
    "l1 = [1, 2, 3, 4, 55, 12, 9]\n",
    "l2 = [5, 8, 6, 9]\n",
    "check(l1, l2)"
   ]
  },
  {
   "cell_type": "code",
   "execution_count": 104,
   "id": "1bf45f79",
   "metadata": {},
   "outputs": [
    {
     "name": "stdout",
     "output_type": "stream",
     "text": [
      "Enter a number : 6\n",
      "720\n"
     ]
    }
   ],
   "source": [
    "#5. Write a Python function to calculate the factorial of a number (a non-negative integer). \n",
    "#   The function accepts the number from the user\n",
    "\n",
    "# Sol.1:\n",
    "def fact(n):\n",
    "    if n == 1:\n",
    "        return 1\n",
    "    else:\n",
    "        return n * fact(n - 1)\n",
    "        \n",
    "# Sol.2:\n",
    "def fact2(num):\n",
    "    fac = 1\n",
    "    for i in range(1, num + 1):\n",
    "        fac = fac * i \n",
    "    return fac\n",
    "    \n",
    "num = int(input(\"Enter a number : \"))\n",
    "print(fact(num))"
   ]
  },
  {
   "cell_type": "code",
   "execution_count": 108,
   "id": "2be26fa9",
   "metadata": {},
   "outputs": [
    {
     "name": "stdout",
     "output_type": "stream",
     "text": [
      "false\n"
     ]
    }
   ],
   "source": [
    "#6. Write a Python function to check whether a number is in a given range.\n",
    "# The range is from 3 to 11\n",
    "\n",
    "def checkRange(a):\n",
    "    if a in range(3, 12):\n",
    "        return \"true\"\n",
    "    else:\n",
    "        return \"false\"\n",
    "    \n",
    "print(checkRange(1))\n",
    "    "
   ]
  },
  {
   "cell_type": "code",
   "execution_count": 115,
   "id": "08cd2bab",
   "metadata": {},
   "outputs": [
    {
     "name": "stdout",
     "output_type": "stream",
     "text": [
      "Enter a number : 7\n",
      "1 x 7 = 7\n",
      "2 x 7 = 14\n",
      "3 x 7 = 21\n",
      "4 x 7 = 28\n",
      "5 x 7 = 35\n",
      "6 x 7 = 42\n",
      "7 x 7 = 49\n",
      "8 x 7 = 56\n",
      "9 x 7 = 63\n",
      "10 x 7 = 70\n"
     ]
    }
   ],
   "source": [
    "#7. Write a program to create the multiplication table (from 1 to 10) of a number.\n",
    "\n",
    "def multiTable(num):\n",
    "    for i in range(1, 11):\n",
    "        print(f\"{i} x {num} = {i * num}\")\n",
    "    \n",
    "x = int(input(\"Enter a number : \"))\n",
    "multiTable(x)"
   ]
  },
  {
   "cell_type": "code",
   "execution_count": 120,
   "id": "1e3008df",
   "metadata": {},
   "outputs": [
    {
     "name": "stdout",
     "output_type": "stream",
     "text": [
      "9\n",
      "2\n"
     ]
    }
   ],
   "source": [
    "#8. LESSER OF TWO EVENS: Write a function that returns the lesser of two given numbers if both numbers are even, \n",
    "#   but returns the greater if one or both numbers are odd\n",
    "\n",
    "def lesserOrEven(num1, num2):\n",
    "    if num1%2 == 0 and num2%2 == 0:\n",
    "        return min(num1, num2)\n",
    "    else:\n",
    "        return max(num1, num2)\n",
    "    \n",
    "print(lesserOrEven(2, 9))\n",
    "print(lesserOrEven(2, 4))"
   ]
  },
  {
   "cell_type": "code",
   "execution_count": 126,
   "id": "2520477b",
   "metadata": {},
   "outputs": [
    {
     "name": "stdout",
     "output_type": "stream",
     "text": [
      "Enter Sentence : Man United\n",
      "False\n"
     ]
    }
   ],
   "source": [
    "#9. ANIMAL CRACKERS: Write a function takes a two-word string and returns True if both words begin with same letter\n",
    "\n",
    "def animal_cracker(words):\n",
    "    List_of_words = words.split()\n",
    "    \n",
    "    if List_of_words[0][0] == List_of_words[1][0]:\n",
    "        return \"True\"\n",
    "    else:\n",
    "        return \"False\"\n",
    "    \n",
    "x = input(\"Enter Sentence : \")\n",
    "print(animal_cracker(x))"
   ]
  },
  {
   "cell_type": "code",
   "execution_count": 127,
   "id": "3962e09b",
   "metadata": {},
   "outputs": [
    {
     "name": "stdout",
     "output_type": "stream",
     "text": [
      "True\n",
      "True\n",
      "False\n"
     ]
    }
   ],
   "source": [
    "#10. MAKES TWENTY: Given two integers, return True if the sum of the integers is 20 or if one of the integers is 20. \n",
    "#  If not, return False\n",
    "\n",
    "def makes_twenty(n1, n2):\n",
    "    if (n1 == 20 or n2 == 20) or (n1 + n2 == 20):\n",
    "        return \"True\"\n",
    "    else:\n",
    "        return \"False\"\n",
    "    \n",
    "print(makes_twenty(20, 10))\n",
    "print(makes_twenty(12, 8))\n",
    "print(makes_twenty(12, 3))"
   ]
  },
  {
   "cell_type": "code",
   "execution_count": 129,
   "id": "9aab5bcb",
   "metadata": {},
   "outputs": [
    {
     "name": "stdout",
     "output_type": "stream",
     "text": [
      "True\n",
      "True\n",
      "False\n",
      "True\n"
     ]
    }
   ],
   "source": [
    "#11. ALMOST THERE: Given an integer n, return True if n is within 10 of either 100 or 200\n",
    "\n",
    "def almostThere(num):\n",
    "    if (abs(num - 100) <= 10) or (abs(num - 200) <= 10) :\n",
    "        return \"True\"\n",
    "    else:\n",
    "        return \"False\"\n",
    "    \n",
    "print(almostThere(90))\n",
    "print(almostThere(104))\n",
    "print(almostThere(150))\n",
    "print(almostThere(209))"
   ]
  },
  {
   "cell_type": "code",
   "execution_count": 153,
   "id": "8d720f6b",
   "metadata": {},
   "outputs": [
    {
     "name": "stdout",
     "output_type": "stream",
     "text": [
      "18\n",
      "BUST\n",
      "19\n"
     ]
    }
   ],
   "source": [
    "#12. BLACKJACK: Given three integers between 1 and 11, if their sum is less than or equal to 21, return their sum.  \n",
    "#    If their sum exceeds 21 and there's an eleven, reduce the total sum by 10. \n",
    "#    Finally, if the sum exceeds 21, return 'BUST'\n",
    "\n",
    "def blackJack(n1, n2, n3):\n",
    "    if 1 <= n1 and n2 and n3 <= 11:\n",
    "        if (n1 + n2 + n3) <= 21:\n",
    "            return n1 + n2 + n3\n",
    "        elif (( n1 + n2 + n3 ) > 21) and (n1 == 11 or n2 ==11 or n3 == 11):\n",
    "            return (n1 + n2 + n3) - 10\n",
    "        else:\n",
    "            return \"BUST\"\n",
    "        \n",
    "    else:\n",
    "        return \"Enter between 1 => 11\"\n",
    "    \n",
    "print(blackJack(5, 6, 7))\n",
    "print(blackJack(9, 9, 9))\n",
    "print(blackJack(9, 9, 11))"
   ]
  }
 ],
 "metadata": {
  "kernelspec": {
   "display_name": "Python 3 (ipykernel)",
   "language": "python",
   "name": "python3"
  },
  "language_info": {
   "codemirror_mode": {
    "name": "ipython",
    "version": 3
   },
   "file_extension": ".py",
   "mimetype": "text/x-python",
   "name": "python",
   "nbconvert_exporter": "python",
   "pygments_lexer": "ipython3",
   "version": "3.9.7"
  }
 },
 "nbformat": 4,
 "nbformat_minor": 5
}
